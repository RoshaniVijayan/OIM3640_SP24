{
 "cells": [
  {
   "cell_type": "markdown",
   "id": "7617a8c1",
   "metadata": {},
   "source": [
    "### while (conditional or game) loops\n",
    "* do something until something else is true\n",
    "* watch out for infinite loops\n",
    "* similar to if structures - the code may never run if cindition is not met"
   ]
  },
  {
   "cell_type": "code",
   "execution_count": null,
   "id": "966cb7e7",
   "metadata": {},
   "outputs": [],
   "source": [
    "# this is an infinite loop... don't run in notebook!\n",
    "# while True:\n",
    "#    print(\"I am not a broken record!\")"
   ]
  },
  {
   "cell_type": "code",
   "execution_count": 4,
   "id": "53dc0027",
   "metadata": {},
   "outputs": [
    {
     "name": "stdout",
     "output_type": "stream",
     "text": [
      "Enter a vowel s\n",
      "Enter a vowel f\n",
      "Enter a vowel a\n",
      "a is a vowel. Thank you!\n"
     ]
    }
   ],
   "source": [
    "letter = input(\"Enter a vowel \")\n",
    "while letter not in 'aeiou':\n",
    "    letter = input(\"Enter a vowel \")\n",
    "print(f\"{letter} is a vowel. Thank you!\")    "
   ]
  },
  {
   "cell_type": "code",
   "execution_count": 5,
   "id": "cf31a7c7",
   "metadata": {},
   "outputs": [
    {
     "name": "stdout",
     "output_type": "stream",
     "text": [
      "Enter a vowel d\n",
      "Enter a vowel s\n",
      "Enter a vowel a\n",
      "a is a vowel. Thank you!\n"
     ]
    }
   ],
   "source": [
    "while True:\n",
    "    letter = input(\"Enter a vowel \")\n",
    "    if letter in 'aeiou':\n",
    "        break\n",
    "print(f\"{letter} is a vowel. Thank you!\")        "
   ]
  },
  {
   "cell_type": "code",
   "execution_count": null,
   "id": "16474b19",
   "metadata": {},
   "outputs": [
    {
     "name": "stdout",
     "output_type": "stream",
     "text": [
      "Enter a number12\n",
      "Enter a number0\n",
      "Enter a number1\n",
      "Enter a number10\n"
     ]
    }
   ],
   "source": [
    "number = 0\n",
    "while number >= 1 or number < 11:\n",
    "    number = int(input(\"Enter a number\"))\n",
    "print(f\"Your number is {number}\")  \n",
    "\n",
    "\n",
    "\n"
   ]
  },
  {
   "cell_type": "code",
   "execution_count": 11,
   "id": "7289b050",
   "metadata": {},
   "outputs": [
    {
     "name": "stdout",
     "output_type": "stream",
     "text": [
      "Your number is 0\n"
     ]
    }
   ],
   "source": [
    "number = 0\n",
    "while number >= 1 and number <= 11:\n",
    "    number = int(input(\"Enter a number\"))\n",
    "print(f\"Your number is {number}\")"
   ]
  },
  {
   "cell_type": "code",
   "execution_count": null,
   "id": "21239760",
   "metadata": {},
   "outputs": [],
   "source": []
  },
  {
   "cell_type": "code",
   "execution_count": null,
   "id": "d307c2c7",
   "metadata": {},
   "outputs": [],
   "source": []
  },
  {
   "cell_type": "code",
   "execution_count": null,
   "id": "ec6ca418",
   "metadata": {},
   "outputs": [],
   "source": []
  },
  {
   "cell_type": "markdown",
   "id": "9557de6c",
   "metadata": {},
   "source": [
    "### collatz conjecture -- everything resolves to 1 with two simple operations"
   ]
  },
  {
   "cell_type": "code",
   "execution_count": 3,
   "id": "e6f77565",
   "metadata": {},
   "outputs": [
    {
     "name": "stdout",
     "output_type": "stream",
     "text": [
      "Enter an integer379\n",
      "1138\n",
      "569\n",
      "1708\n",
      "854\n",
      "427\n",
      "1282\n",
      "641\n",
      "1924\n",
      "962\n",
      "481\n",
      "1444\n",
      "722\n",
      "361\n",
      "1084\n",
      "542\n",
      "271\n",
      "814\n",
      "407\n",
      "1222\n",
      "611\n",
      "1834\n",
      "917\n",
      "2752\n",
      "1376\n",
      "688\n",
      "344\n",
      "172\n",
      "86\n",
      "43\n",
      "130\n",
      "65\n",
      "196\n",
      "98\n",
      "49\n",
      "148\n",
      "74\n",
      "37\n",
      "112\n",
      "56\n",
      "28\n",
      "14\n",
      "7\n",
      "22\n",
      "11\n",
      "34\n",
      "17\n",
      "52\n",
      "26\n",
      "13\n",
      "40\n",
      "20\n",
      "10\n",
      "5\n",
      "16\n",
      "8\n",
      "4\n",
      "2\n",
      "1\n"
     ]
    }
   ],
   "source": [
    "integer = int(input(\"Enter an integer\"))\n",
    "while integer > 1:\n",
    "    if integer % 2:\n",
    "        integer = integer * 3 + 1\n",
    "    else:\n",
    "        integer //= 2\n",
    "    print(integer)  \n",
    "    \n"
   ]
  },
  {
   "cell_type": "markdown",
   "id": "17dcdf14",
   "metadata": {},
   "source": [
    "### NumPy Financial"
   ]
  },
  {
   "cell_type": "code",
   "execution_count": 4,
   "id": "7a4871ec",
   "metadata": {},
   "outputs": [
    {
     "name": "stdout",
     "output_type": "stream",
     "text": [
      "Requirement already satisfied: numpy-financial in c:\\users\\mmacarty\\anaconda3\\lib\\site-packages (1.0.0)\n",
      "Requirement already satisfied: numpy>=1.15 in c:\\users\\mmacarty\\anaconda3\\lib\\site-packages (from numpy-financial) (1.24.3)\n"
     ]
    }
   ],
   "source": [
    "!pip install numpy-financial"
   ]
  },
  {
   "cell_type": "code",
   "execution_count": 12,
   "id": "4ea99179",
   "metadata": {},
   "outputs": [],
   "source": [
    "import numpy_financial as npf"
   ]
  },
  {
   "cell_type": "code",
   "execution_count": 13,
   "id": "0cb69278",
   "metadata": {},
   "outputs": [],
   "source": [
    "loan = 300000\n",
    "rate = .06\n",
    "term = 30"
   ]
  },
  {
   "cell_type": "code",
   "execution_count": 6,
   "id": "0631ab82",
   "metadata": {},
   "outputs": [
    {
     "name": "stdout",
     "output_type": "stream",
     "text": [
      "Help on function pmt in module numpy_financial._financial:\n",
      "\n",
      "pmt(rate, nper, pv, fv=0, when='end')\n",
      "    Compute the payment against loan principal plus interest.\n",
      "    \n",
      "    Given:\n",
      "     * a present value, `pv` (e.g., an amount borrowed)\n",
      "     * a future value, `fv` (e.g., 0)\n",
      "     * an interest `rate` compounded once per period, of which\n",
      "       there are\n",
      "     * `nper` total\n",
      "     * and (optional) specification of whether payment is made\n",
      "       at the beginning (`when` = {'begin', 1}) or the end\n",
      "       (`when` = {'end', 0}) of each period\n",
      "    \n",
      "    Return:\n",
      "       the (fixed) periodic payment.\n",
      "    \n",
      "    Parameters\n",
      "    ----------\n",
      "    rate : array_like\n",
      "        Rate of interest (per period)\n",
      "    nper : array_like\n",
      "        Number of compounding periods\n",
      "    pv : array_like\n",
      "        Present value\n",
      "    fv : array_like,  optional\n",
      "        Future value (default = 0)\n",
      "    when : {{'begin', 1}, {'end', 0}}, {string, int}\n",
      "        When payments are due ('begin' (1) or 'end' (0))\n",
      "    \n",
      "    Returns\n",
      "    -------\n",
      "    out : ndarray\n",
      "        Payment against loan plus interest.  If all input is scalar, returns a\n",
      "        scalar float.  If any input is array_like, returns payment for each\n",
      "        input element. If multiple inputs are array_like, they all must have\n",
      "        the same shape.\n",
      "    \n",
      "    Notes\n",
      "    -----\n",
      "    The payment is computed by solving the equation::\n",
      "    \n",
      "     fv +\n",
      "     pv*(1 + rate)**nper +\n",
      "     pmt*(1 + rate*when)/rate*((1 + rate)**nper - 1) == 0\n",
      "    \n",
      "    or, when ``rate == 0``::\n",
      "    \n",
      "      fv + pv + pmt * nper == 0\n",
      "    \n",
      "    for ``pmt``.\n",
      "    \n",
      "    Note that computing a monthly mortgage payment is only\n",
      "    one use for this function.  For example, pmt returns the\n",
      "    periodic deposit one must make to achieve a specified\n",
      "    future balance given an initial deposit, a fixed,\n",
      "    periodically compounded interest rate, and the total\n",
      "    number of periods.\n",
      "    \n",
      "    References\n",
      "    ----------\n",
      "    .. [WRW] Wheeler, D. A., E. Rathke, and R. Weir (Eds.) (2009, May).\n",
      "       Open Document Format for Office Applications (OpenDocument)v1.2,\n",
      "       Part 2: Recalculated Formula (OpenFormula) Format - Annotated Version,\n",
      "       Pre-Draft 12. Organization for the Advancement of Structured Information\n",
      "       Standards (OASIS). Billerica, MA, USA. [ODT Document].\n",
      "       Available:\n",
      "       http://www.oasis-open.org/committees/documents.php\n",
      "       ?wg_abbrev=office-formulaOpenDocument-formula-20090508.odt\n",
      "    \n",
      "    Examples\n",
      "    --------\n",
      "    >>> import numpy_financial as npf\n",
      "    \n",
      "    What is the monthly payment needed to pay off a $200,000 loan in 15\n",
      "    years at an annual interest rate of 7.5%?\n",
      "    \n",
      "    >>> npf.pmt(0.075/12, 12*15, 200000)\n",
      "    -1854.0247200054619\n",
      "    \n",
      "    In order to pay-off (i.e., have a future-value of 0) the $200,000 obtained\n",
      "    today, a monthly payment of $1,854.02 would be required.  Note that this\n",
      "    example illustrates usage of `fv` having a default value of 0.\n",
      "\n"
     ]
    }
   ],
   "source": [
    "help(npf.pmt)"
   ]
  },
  {
   "cell_type": "code",
   "execution_count": 16,
   "id": "96c618d0",
   "metadata": {},
   "outputs": [
    {
     "data": {
      "text/plain": [
       "'$ 1,798.65'"
      ]
     },
     "execution_count": 16,
     "metadata": {},
     "output_type": "execute_result"
    }
   ],
   "source": [
    "pmt = f\"$ {npf.pmt(rate/12, term * 12, -loan):,.2f}\"\n",
    "pmt"
   ]
  },
  {
   "cell_type": "code",
   "execution_count": 17,
   "id": "3f214b51",
   "metadata": {},
   "outputs": [
    {
     "data": {
      "text/plain": [
       "298.65157545827105"
      ]
     },
     "execution_count": 17,
     "metadata": {},
     "output_type": "execute_result"
    }
   ],
   "source": [
    "npf.ppmt(rate/12, 1, term * 12, -loan)"
   ]
  },
  {
   "cell_type": "code",
   "execution_count": 25,
   "id": "99bf4fa5",
   "metadata": {},
   "outputs": [
    {
     "data": {
      "text/plain": [
       "array(1500.)"
      ]
     },
     "execution_count": 25,
     "metadata": {},
     "output_type": "execute_result"
    }
   ],
   "source": [
    "# note the inconsistency here where you get a NumPy array as a result\n",
    "npf.ipmt(rate/12, 1, term * 12, -loan)"
   ]
  },
  {
   "cell_type": "code",
   "execution_count": 27,
   "id": "19bd8aed",
   "metadata": {},
   "outputs": [
    {
     "data": {
      "text/plain": [
       "1500.0"
      ]
     },
     "execution_count": 27,
     "metadata": {},
     "output_type": "execute_result"
    }
   ],
   "source": [
    "# to get the value\n",
    "npf.ipmt(rate/12, 1, term * 12, -loan).item()"
   ]
  },
  {
   "cell_type": "code",
   "execution_count": 28,
   "id": "9072a5af",
   "metadata": {},
   "outputs": [
    {
     "data": {
      "text/plain": [
       "1500.0"
      ]
     },
     "execution_count": 28,
     "metadata": {},
     "output_type": "execute_result"
    }
   ],
   "source": [
    "# or\n",
    "float(npf.ipmt(rate/12, 1, term * 12, -loan))"
   ]
  },
  {
   "cell_type": "code",
   "execution_count": null,
   "id": "9bf12c7c",
   "metadata": {},
   "outputs": [],
   "source": []
  },
  {
   "cell_type": "code",
   "execution_count": null,
   "id": "413c0673",
   "metadata": {},
   "outputs": [],
   "source": []
  },
  {
   "cell_type": "code",
   "execution_count": null,
   "id": "02afa844",
   "metadata": {},
   "outputs": [],
   "source": []
  }
 ],
 "metadata": {
  "kernelspec": {
   "display_name": "Python 3 (ipykernel)",
   "language": "python",
   "name": "python3"
  },
  "language_info": {
   "codemirror_mode": {
    "name": "ipython",
    "version": 3
   },
   "file_extension": ".py",
   "mimetype": "text/x-python",
   "name": "python",
   "nbconvert_exporter": "python",
   "pygments_lexer": "ipython3",
   "version": "3.11.3"
  }
 },
 "nbformat": 4,
 "nbformat_minor": 5
}
