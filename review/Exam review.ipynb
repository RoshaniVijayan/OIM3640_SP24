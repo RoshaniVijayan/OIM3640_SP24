{
 "cells": [
  {
   "cell_type": "markdown",
   "metadata": {},
   "source": [
    "# Exam Review"
   ]
  },
  {
   "cell_type": "markdown",
   "metadata": {},
   "source": [
    "#### 1. Write code that checks if 2 inputs are true. If they are both true output \"Buy\", otherwise output \"Hold\""
   ]
  },
  {
   "cell_type": "code",
   "execution_count": 6,
   "metadata": {},
   "outputs": [
    {
     "name": "stdout",
     "output_type": "stream",
     "text": [
      "Hold\n"
     ]
    }
   ],
   "source": [
    "SMA9 = False\n",
    "SMA21 = True\n",
    "if SMA9 and SMA21:\n",
    "    print(\"Buy\")\n",
    "else:\n",
    "    print(\"Hold\")"
   ]
  },
  {
   "cell_type": "markdown",
   "metadata": {},
   "source": [
    "#### 2. Write code that tests if the sum of two inputs is 10 or if one of the inputs is 10"
   ]
  },
  {
   "cell_type": "code",
   "execution_count": 8,
   "metadata": {},
   "outputs": [
    {
     "name": "stdout",
     "output_type": "stream",
     "text": [
      "Enter lucky number: 2\n",
      "Enter unlucky number: 8\n",
      "Sum of the inputs is 10\n"
     ]
    }
   ],
   "source": [
    "lucky = int(input(\"Enter lucky number: \"))\n",
    "unlucky = int(input(\"Enter unlucky number: \"))\n",
    "total = lucky + unlucky\n",
    "if total == 10:\n",
    "    print(f\"Sum of the inputs is {total}\")\n",
    "if lucky == 10 or unlucky == 10:\n",
    "    print(f\"One of the inputs was ten\")\n"
   ]
  },
  {
   "cell_type": "markdown",
   "metadata": {},
   "source": [
    "#### 3. Write code that \"flips a coin\" 20 times. The code should output the longest run of \"H\" and the longest run of \"T\". Hint random.choice can be used to choose randomly from a list."
   ]
  },
  {
   "cell_type": "code",
   "execution_count": 24,
   "metadata": {},
   "outputs": [
    {
     "name": "stdout",
     "output_type": "stream",
     "text": [
      "2\n",
      "6\n",
      "THTHHTTTTTTTTTTHHTTH\n",
      "['', 'H', 'HH', '', '', '', '', '', '', '', '', '', 'HH', '', 'H']\n",
      "2\n"
     ]
    }
   ],
   "source": [
    "from random import choice\n",
    "coin = ['H', 'T']\n",
    "flips = ''\n",
    "for flip in range(20):\n",
    "    flips += choice(coin)\n",
    "tails = flips.split('H')\n",
    "heads = flips.split('T')\n",
    "max_heads = 0\n",
    "for run in heads:\n",
    "    if len(run) > max_heads:\n",
    "        max_heads = len(run)\n",
    "# alternative tive for loop and print statement    \n",
    "print(len(max(heads, key=len)))\n",
    "\n",
    "print(flips.count('H'))\n",
    "print(flips)\n",
    "print(heads)\n",
    "print(max_heads)"
   ]
  },
  {
   "cell_type": "markdown",
   "metadata": {},
   "source": [
    "#### 4.  Write code that takes string input and outputs the string with a random character removed. "
   ]
  },
  {
   "cell_type": "code",
   "execution_count": 29,
   "metadata": {},
   "outputs": [
    {
     "name": "stdout",
     "output_type": "stream",
     "text": [
      "0\n",
      "ython\n"
     ]
    }
   ],
   "source": [
    "from random import randint\n",
    "string = \"Python\"\n",
    "letter_to_omit = randint(0, len(string) - 1)\n",
    "print(letter_to_omit)\n",
    "revised_string = string.replace(string[letter_to_omit], '')\n",
    "print(revised_string)\n"
   ]
  },
  {
   "cell_type": "markdown",
   "metadata": {},
   "source": [
    "#### 5. Write code that takes a wrapper input, such as [], {}, <>, and outputs a second input inside the wrapper, i.e. \\<html> might be an output, or {color}"
   ]
  },
  {
   "cell_type": "code",
   "execution_count": 33,
   "metadata": {},
   "outputs": [
    {
     "name": "stdout",
     "output_type": "stream",
     "text": [
      "enter a [] ,{} or <><>\n",
      "Enter string to be wrapped: article\n",
      "<article>\n",
      "ar\n"
     ]
    }
   ],
   "source": [
    "wrapper = input('enter a [] ,{} or <>')\n",
    "tag = input(\"Enter string to be wrapped: \")\n",
    "# complete the missing line of code\n",
    "wrapped_string = wrapper[0] + tag + wrapper[-1]\n",
    "print(wrapped_string)\n",
    "print(tag[:2])"
   ]
  },
  {
   "cell_type": "code",
   "execution_count": null,
   "metadata": {},
   "outputs": [],
   "source": []
  },
  {
   "cell_type": "markdown",
   "metadata": {},
   "source": [
    "#### 6. Write code that sums all the values bewteen two inputs, for example 1 and 10 = 55"
   ]
  },
  {
   "cell_type": "code",
   "execution_count": 35,
   "metadata": {},
   "outputs": [
    {
     "name": "stdout",
     "output_type": "stream",
     "text": [
      "Enter lower limit: 1\n",
      "Enter upper limit: 10\n",
      "55\n"
     ]
    }
   ],
   "source": [
    "lower = int(input(\"Enter lower limit: \"))\n",
    "upper = int(input(\"Enter upper limit: \"))\n",
    "total = 0\n",
    "# for value in range(lower, upper + 1):\n",
    "#    total += value\n",
    "# print(total)\n",
    "\n",
    "while lower <= upper:\n",
    "    total += lower\n",
    "    lower += 1\n",
    "print(total)    \n"
   ]
  },
  {
   "cell_type": "markdown",
   "metadata": {},
   "source": [
    "#### 7. A fibonacci sequence begins 0,1.  The sequence continues with new values being the sum of the previous two, so that the third value is 1 and the fourth is 2, and so on.  Write code that continues to add fibonacci numbers to a list until value of the fibonacci exceeds 1,000,000.  Output the list and the n of first Fibonacci to exceed 1,000,000.  "
   ]
  },
  {
   "cell_type": "code",
   "execution_count": 36,
   "metadata": {},
   "outputs": [
    {
     "name": "stdout",
     "output_type": "stream",
     "text": [
      "[0, 1, 1, 2, 3, 5, 8, 13, 21, 34, 55, 89, 144, 233, 377, 610, 987, 1597, 2584, 4181, 6765, 10946, 17711, 28657, 46368, 75025, 121393, 196418, 317811, 514229, 832040, 1346269]\n"
     ]
    }
   ],
   "source": [
    "fibs = [0,1]\n",
    "while fibs[-1] <= 1e6:\n",
    "    fibs.append(fibs[-1] + fibs[-2])\n",
    "print(fibs)    "
   ]
  },
  {
   "cell_type": "markdown",
   "metadata": {},
   "source": [
    "#### 8. Write code to calculate a trimmed mean, that is a mean that excludes some small percentage of low and high values.  Using the values below, calculate a 5% trimmed mean."
   ]
  },
  {
   "cell_type": "code",
   "execution_count": 2,
   "metadata": {},
   "outputs": [
    {
     "name": "stdout",
     "output_type": "stream",
     "text": [
      "144.29\n",
      "[135.61, 136.18, 136.37, 137.73, 138.09, 140.66, 140.98, 143.19, 143.33, 143.33, 143.36, 143.47, 143.89, 144.48, 150.28, 151.07, 152.67, 153.95, 154.19, 154.83]\n"
     ]
    }
   ],
   "source": [
    "import math\n",
    "x = [140.66,143.33,150.28,136.18, 151.07, 140.98, 143.19, \n",
    "     154.19, 143.47, 143.36, 152.67,137.73, 136.37, \n",
    "     135.61, 143.89, 144.48, 153.95, 154.83, 138.09, 143.33]\n",
    "x.sort()\n",
    "count = len(x)\n",
    "trim = int(count * .05)\n",
    "print(sum(x[trim:-trim]) / (count - 2 * trim))\n",
    "print(x)"
   ]
  },
  {
   "cell_type": "markdown",
   "metadata": {},
   "source": [
    "#### 9. Write code that determines the median of the above data set. Use no import. The code should work equally well for datasets with an even or odd number of values"
   ]
  },
  {
   "cell_type": "code",
   "execution_count": 1,
   "metadata": {},
   "outputs": [],
   "source": [
    "# x is already sorted if you completed exercise 8, otherwise x.sort()\n",
    "import math\n",
    "count = len(x) "
   ]
  },
  {
   "cell_type": "markdown",
   "metadata": {},
   "source": [
    "#### 10. Write code that produces the output below, using a for loop"
   ]
  },
  {
   "cell_type": "code",
   "execution_count": 81,
   "metadata": {},
   "outputs": [
    {
     "name": "stdout",
     "output_type": "stream",
     "text": [
      "* * * * * *  \n",
      " * * * * *   \n",
      "  * * * *    \n",
      "   * * *     \n",
      "    * *      \n",
      "     *       \n"
     ]
    }
   ],
   "source": []
  },
  {
   "cell_type": "code",
   "execution_count": null,
   "metadata": {},
   "outputs": [],
   "source": []
  },
  {
   "cell_type": "code",
   "execution_count": null,
   "metadata": {},
   "outputs": [],
   "source": []
  }
 ],
 "metadata": {
  "kernelspec": {
   "display_name": "Python 3 (ipykernel)",
   "language": "python",
   "name": "python3"
  },
  "language_info": {
   "codemirror_mode": {
    "name": "ipython",
    "version": 3
   },
   "file_extension": ".py",
   "mimetype": "text/x-python",
   "name": "python",
   "nbconvert_exporter": "python",
   "pygments_lexer": "ipython3",
   "version": "3.9.13"
  }
 },
 "nbformat": 4,
 "nbformat_minor": 4
}
