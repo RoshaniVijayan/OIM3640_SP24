{
 "cells": [
  {
   "cell_type": "markdown",
   "id": "7fcc5898",
   "metadata": {},
   "source": [
    "# Handling Exceptions\n",
    "* So far we have tested input with structures like if, and while\n",
    "* In addition Python has a structure meant to specifically trap errors\n",
    "* this allows programs to continue even after ancountering an error\n",
    "* Python hasa number of built-in Exception messages --> part of Exception class\n",
    "* You can also define your own exceptions"
   ]
  },
  {
   "cell_type": "code",
   "execution_count": 1,
   "id": "145b1de0",
   "metadata": {},
   "outputs": [
    {
     "name": "stdout",
     "output_type": "stream",
     "text": [
      "0.5\n"
     ]
    },
    {
     "ename": "TypeError",
     "evalue": "unsupported operand type(s) for /: 'str' and 'int'",
     "output_type": "error",
     "traceback": [
      "\u001b[1;31m---------------------------------------------------------------------------\u001b[0m",
      "\u001b[1;31mTypeError\u001b[0m                                 Traceback (most recent call last)",
      "Cell \u001b[1;32mIn[1], line 3\u001b[0m\n\u001b[0;32m      1\u001b[0m values \u001b[38;5;241m=\u001b[39m [(\u001b[38;5;241m1\u001b[39m, \u001b[38;5;241m2\u001b[39m), (\u001b[38;5;124m'\u001b[39m\u001b[38;5;124m5\u001b[39m\u001b[38;5;124m'\u001b[39m, \u001b[38;5;241m6\u001b[39m), (\u001b[38;5;241m5\u001b[39m, \u001b[38;5;241m4\u001b[39m), (\u001b[38;5;241m0\u001b[39m, \u001b[38;5;241m0\u001b[39m)]\n\u001b[0;32m      2\u001b[0m \u001b[38;5;28;01mfor\u001b[39;00m value \u001b[38;5;129;01min\u001b[39;00m values:\n\u001b[1;32m----> 3\u001b[0m     \u001b[38;5;28mprint\u001b[39m(value[\u001b[38;5;241m0\u001b[39m] \u001b[38;5;241m/\u001b[39m value[\u001b[38;5;241m1\u001b[39m])\n",
      "\u001b[1;31mTypeError\u001b[0m: unsupported operand type(s) for /: 'str' and 'int'"
     ]
    }
   ],
   "source": [
    "values = [(1, 2), ('5', 6), (5, 4), (0, 0)]\n",
    "for value in values:\n",
    "    print(value[0] / value[1])\n"
   ]
  },
  {
   "cell_type": "code",
   "execution_count": 2,
   "id": "516e1b1d",
   "metadata": {},
   "outputs": [
    {
     "name": "stdout",
     "output_type": "stream",
     "text": [
      "0.5\n",
      "that does not compute\n",
      "1.25\n",
      "that does not compute\n"
     ]
    }
   ],
   "source": [
    "values = [(1, 2), ('5', 6), (5, 4), (0, 0)]\n",
    "for value in values:\n",
    "    try: \n",
    "        print(value[0] / value[1])\n",
    "    except:\n",
    "        print(\"that does not compute\")"
   ]
  },
  {
   "cell_type": "code",
   "execution_count": 4,
   "id": "e4b73334",
   "metadata": {},
   "outputs": [
    {
     "name": "stdout",
     "output_type": "stream",
     "text": [
      "0.5\n",
      "unsupported operand type(s) for /: 'str' and 'int'\n",
      "1.25\n",
      "division by zero\n"
     ]
    }
   ],
   "source": [
    "# catch error and tell us what it is\n",
    "values = [(1, 2), ('5', 6), (5, 4), (0, 0)]\n",
    "for value in values:\n",
    "    try: \n",
    "        print(value[0] / value[1])\n",
    "    except Exception as  e:\n",
    "        print(e)\n"
   ]
  },
  {
   "cell_type": "code",
   "execution_count": 5,
   "id": "49320eb5",
   "metadata": {},
   "outputs": [
    {
     "name": "stdout",
     "output_type": "stream",
     "text": [
      "0.5\n",
      "Can't do division like that\n",
      "1.25\n",
      "Can't divide by zero - division by zero\n"
     ]
    }
   ],
   "source": [
    "for value in values:\n",
    "    try: \n",
    "        print(value[0] / value[1])\n",
    "    except TypeError:\n",
    "        print(f\"Can't do division like that\")\n",
    "    except ZeroDivisionError as  e:\n",
    "        print(f\"Can't divide by zero - {e}\")    "
   ]
  },
  {
   "cell_type": "code",
   "execution_count": 4,
   "id": "8441196e",
   "metadata": {},
   "outputs": [
    {
     "name": "stdout",
     "output_type": "stream",
     "text": [
      "Enter a number: 5\n",
      "Enter another number: 0\n",
      "Can't divide by zero\n",
      "This happens no matter what\n",
      "Enter a number: 5\n",
      "Enter another number: 5\n",
      "1.0\n",
      "This happens no matter what\n"
     ]
    }
   ],
   "source": [
    "# this one only catches Type and Zero division errors, anything else will cause crash\n",
    "values = [(1, 2), ('5', 6), (5, 4), (0, 0)]\n",
    "while True:\n",
    "    try:\n",
    "        val1 = int(input(\"Enter a number: \"))\n",
    "        val2 = int(input(\"Enter another number: \"))\n",
    "        result = val1 / val2\n",
    "        \n",
    "    except ValueError:\n",
    "        print(\"Enter two numbers\")\n",
    "    except ZeroDivisionError:\n",
    "        print(\"Can't divide by zero\")\n",
    "    else:\n",
    "        print(result)\n",
    "        break\n",
    "    finally:\n",
    "        print(\"This happens no matter what\")\n",
    "    "
   ]
  },
  {
   "cell_type": "code",
   "execution_count": 10,
   "id": "575ba1de",
   "metadata": {},
   "outputs": [
    {
     "ename": "Exception",
     "evalue": "",
     "output_type": "error",
     "traceback": [
      "\u001b[1;31m---------------------------------------------------------------------------\u001b[0m",
      "\u001b[1;31mException\u001b[0m                                 Traceback (most recent call last)",
      "Cell \u001b[1;32mIn[10], line 1\u001b[0m\n\u001b[1;32m----> 1\u001b[0m \u001b[38;5;28;01mraise\u001b[39;00m \u001b[38;5;167;01mException\u001b[39;00m\n",
      "\u001b[1;31mException\u001b[0m: "
     ]
    }
   ],
   "source": [
    "raise Exception\n"
   ]
  },
  {
   "cell_type": "code",
   "execution_count": 5,
   "id": "fda99300",
   "metadata": {},
   "outputs": [
    {
     "name": "stdout",
     "output_type": "stream",
     "text": [
      "                                 Open        High         Low       Close  \\\n",
      "Date                                                                        \n",
      "2024-02-05 00:00:00-05:00  187.910213  189.008818  185.603160  187.440811   \n",
      "2024-02-06 00:00:00-05:00  186.621869  189.068743  186.531987  189.058762   \n",
      "2024-02-07 00:00:00-05:00  190.397053  190.806534  188.369641  189.168625   \n",
      "2024-02-08 00:00:00-05:00  189.148646  189.298448  187.111252  188.080017   \n",
      "2024-02-09 00:00:00-05:00  188.649994  189.990005  188.000000  188.850006   \n",
      "2024-02-12 00:00:00-05:00  188.419998  188.669998  186.789993  187.149994   \n",
      "2024-02-13 00:00:00-05:00  185.770004  186.210007  183.509995  185.039993   \n",
      "2024-02-14 00:00:00-05:00  185.320007  185.529999  182.440002  184.149994   \n",
      "2024-02-15 00:00:00-05:00  183.550003  184.490005  181.350006  183.860001   \n",
      "2024-02-16 00:00:00-05:00  183.419998  184.850006  181.669998  182.309998   \n",
      "2024-02-20 00:00:00-05:00  181.789993  182.429993  180.000000  181.559998   \n",
      "2024-02-21 00:00:00-05:00  181.940002  182.889999  180.660004  182.320007   \n",
      "2024-02-22 00:00:00-05:00  183.479996  184.960007  182.460007  184.369995   \n",
      "2024-02-23 00:00:00-05:00  185.009995  185.039993  182.229996  182.520004   \n",
      "2024-02-26 00:00:00-05:00  182.240005  182.759995  180.649994  181.160004   \n",
      "2024-02-27 00:00:00-05:00  181.100006  183.919998  179.559998  182.630005   \n",
      "2024-02-28 00:00:00-05:00  182.509995  183.119995  180.130005  181.419998   \n",
      "2024-02-29 00:00:00-05:00  181.270004  182.570007  179.529999  180.750000   \n",
      "2024-03-01 00:00:00-05:00  179.550003  180.529999  177.380005  179.660004   \n",
      "2024-03-04 00:00:00-05:00  176.149994  176.899994  173.899994  174.830002   \n",
      "\n",
      "                              Volume  Dividends  Stock Splits  \n",
      "Date                                                           \n",
      "2024-02-05 00:00:00-05:00   69668800       0.00           0.0  \n",
      "2024-02-06 00:00:00-05:00   43490800       0.00           0.0  \n",
      "2024-02-07 00:00:00-05:00   53439000       0.00           0.0  \n",
      "2024-02-08 00:00:00-05:00   40962000       0.00           0.0  \n",
      "2024-02-09 00:00:00-05:00   45155200       0.24           0.0  \n",
      "2024-02-12 00:00:00-05:00   41781900       0.00           0.0  \n",
      "2024-02-13 00:00:00-05:00   56529500       0.00           0.0  \n",
      "2024-02-14 00:00:00-05:00   54630500       0.00           0.0  \n",
      "2024-02-15 00:00:00-05:00   65434500       0.00           0.0  \n",
      "2024-02-16 00:00:00-05:00   49701400       0.00           0.0  \n",
      "2024-02-20 00:00:00-05:00   53665600       0.00           0.0  \n",
      "2024-02-21 00:00:00-05:00   41529700       0.00           0.0  \n",
      "2024-02-22 00:00:00-05:00   52292200       0.00           0.0  \n",
      "2024-02-23 00:00:00-05:00   45119700       0.00           0.0  \n",
      "2024-02-26 00:00:00-05:00   40867400       0.00           0.0  \n",
      "2024-02-27 00:00:00-05:00   54318900       0.00           0.0  \n",
      "2024-02-28 00:00:00-05:00   48953900       0.00           0.0  \n",
      "2024-02-29 00:00:00-05:00  136682600       0.00           0.0  \n",
      "2024-03-01 00:00:00-05:00   73488000       0.00           0.0  \n",
      "2024-03-04 00:00:00-05:00   30271284       0.00           0.0  \n"
     ]
    }
   ],
   "source": [
    "import yfinance as yf\n",
    "\n",
    "aapl = yf.Ticker(\"AAPL\").history()\n",
    "\n",
    "print(aapl)"
   ]
  },
  {
   "cell_type": "code",
   "execution_count": 18,
   "id": "bbd05177",
   "metadata": {},
   "outputs": [
    {
     "name": "stdout",
     "output_type": "stream",
     "text": [
      "174.71499633789062\n"
     ]
    }
   ],
   "source": [
    "aapl = f\"{yf.Ticker('AAPL').history()['Close'][-1]}\"\n",
    "\n",
    "print(aapl)"
   ]
  },
  {
   "cell_type": "code",
   "execution_count": 6,
   "id": "278691d0",
   "metadata": {},
   "outputs": [
    {
     "data": {
      "text/plain": [
       "pandas.core.frame.DataFrame"
      ]
     },
     "execution_count": 6,
     "metadata": {},
     "output_type": "execute_result"
    }
   ],
   "source": [
    "type(aapl)"
   ]
  },
  {
   "cell_type": "code",
   "execution_count": null,
   "id": "f5c0f276",
   "metadata": {},
   "outputs": [],
   "source": []
  },
  {
   "cell_type": "code",
   "execution_count": null,
   "id": "168a3315",
   "metadata": {},
   "outputs": [],
   "source": []
  },
  {
   "cell_type": "code",
   "execution_count": null,
   "id": "cd9b734a",
   "metadata": {},
   "outputs": [],
   "source": []
  }
 ],
 "metadata": {
  "kernelspec": {
   "display_name": "Python 3 (ipykernel)",
   "language": "python",
   "name": "python3"
  },
  "language_info": {
   "codemirror_mode": {
    "name": "ipython",
    "version": 3
   },
   "file_extension": ".py",
   "mimetype": "text/x-python",
   "name": "python",
   "nbconvert_exporter": "python",
   "pygments_lexer": "ipython3",
   "version": "3.11.3"
  }
 },
 "nbformat": 4,
 "nbformat_minor": 5
}
