{
 "cells": [
  {
   "cell_type": "markdown",
   "id": "accompanied-wedding",
   "metadata": {},
   "source": [
    "# User Defined Functions\n",
    "* Allow for creation and management of larger programs\n",
    "* Allows for complexity to be separated from program flow\n",
    "* Can minmimize code redundency\n",
    "* Functions can be used to package scripts for use and reuse\n",
    "* Allow us to organize code more effectively\n",
    "* Types:\n",
    "    * no argument, no return value(s) (void)\n",
    "    * no argument, with return value(s)\n",
    "    * argument(s), no return value(s) (void)\n",
    "    * argument(s), with return value(s)\n",
    "* Technically, a function can only have one return value, but it can be a collection\n",
    "* Functions often used to encapsulate an important alogorithm"
   ]
  },
  {
   "cell_type": "code",
   "execution_count": null,
   "id": "monetary-plasma",
   "metadata": {},
   "outputs": [],
   "source": []
  },
  {
   "cell_type": "markdown",
   "id": "distinct-sweet",
   "metadata": {},
   "source": [
    "### Function Examples"
   ]
  },
  {
   "cell_type": "code",
   "execution_count": 56,
   "id": "happy-forestry",
   "metadata": {},
   "outputs": [],
   "source": [
    "# pass acts as a placeholder\n",
    "def some_algorithm():\n",
    "    #TODO write some algorithm\n",
    "    pass"
   ]
  },
  {
   "cell_type": "code",
   "execution_count": 57,
   "id": "southern-stable",
   "metadata": {},
   "outputs": [
    {
     "name": "stdout",
     "output_type": "stream",
     "text": [
      "None\n"
     ]
    }
   ],
   "source": [
    "# no argument, no return\n",
    "var = some_algorithm()\n",
    "print(var)"
   ]
  },
  {
   "cell_type": "code",
   "execution_count": 60,
   "id": "b2f37ff2",
   "metadata": {},
   "outputs": [],
   "source": [
    "def address():\n",
    "    print(\"Babson College\")\n",
    "    print(\"241 Forest St.\")\n",
    "    print(\"Wellesley, MA\")\n"
   ]
  },
  {
   "cell_type": "code",
   "execution_count": 62,
   "id": "nutritional-surname",
   "metadata": {},
   "outputs": [
    {
     "name": "stdout",
     "output_type": "stream",
     "text": [
      "Babson College\n",
      "241 Forest St.\n",
      "Wellesley, MA\n"
     ]
    }
   ],
   "source": [
    "a = address()"
   ]
  },
  {
   "cell_type": "code",
   "execution_count": 66,
   "id": "f764743a",
   "metadata": {},
   "outputs": [
    {
     "data": {
      "text/plain": [
       "[1, 2, 3, 4]"
      ]
     },
     "execution_count": 66,
     "metadata": {},
     "output_type": "execute_result"
    }
   ],
   "source": [
    "x = [1,2,3]\n",
    "def append():\n",
    "    x.append(4)\n",
    "append()\n",
    "x"
   ]
  },
  {
   "cell_type": "code",
   "execution_count": 67,
   "id": "57407ef4",
   "metadata": {},
   "outputs": [],
   "source": [
    "x.append(5)"
   ]
  },
  {
   "cell_type": "code",
   "execution_count": 71,
   "id": "d35649e6",
   "metadata": {},
   "outputs": [
    {
     "name": "stdout",
     "output_type": "stream",
     "text": [
      "Babson College\n",
      "241 Forest St.\n",
      "Wellesley, MA\n"
     ]
    }
   ],
   "source": [
    "# no argument, with return\n",
    "def address():\n",
    "    return \"Babson College\\n241 Forest St.\\nWellesley, MA\"\n",
    "\n",
    "a = address()\n",
    "print(a)"
   ]
  },
  {
   "cell_type": "code",
   "execution_count": 74,
   "id": "coated-problem",
   "metadata": {},
   "outputs": [
    {
     "data": {
      "text/plain": [
       "10000"
      ]
     },
     "execution_count": 74,
     "metadata": {},
     "output_type": "execute_result"
    }
   ],
   "source": [
    "# Argument(s) and return\n",
    "def square(x):\n",
    "    return x ** 2\n",
    "s = square(100)\n",
    "s"
   ]
  },
  {
   "cell_type": "code",
   "execution_count": 77,
   "id": "separate-franklin",
   "metadata": {},
   "outputs": [],
   "source": [
    "# documentation\n",
    "def square(x):\n",
    "    \"\"\"return the value of x squared\"\"\"\n",
    "    return x ** 2"
   ]
  },
  {
   "cell_type": "code",
   "execution_count": 78,
   "id": "d9f4cebd",
   "metadata": {},
   "outputs": [
    {
     "name": "stdout",
     "output_type": "stream",
     "text": [
      "Help on function square in module __main__:\n",
      "\n",
      "square(x)\n",
      "    return the value of x squared\n",
      "\n"
     ]
    }
   ],
   "source": [
    "help(square)"
   ]
  },
  {
   "cell_type": "code",
   "execution_count": null,
   "id": "f871ca60",
   "metadata": {},
   "outputs": [],
   "source": []
  },
  {
   "cell_type": "code",
   "execution_count": null,
   "id": "be9ad03d",
   "metadata": {},
   "outputs": [],
   "source": []
  },
  {
   "cell_type": "code",
   "execution_count": null,
   "id": "39b20e3d",
   "metadata": {},
   "outputs": [],
   "source": []
  },
  {
   "cell_type": "markdown",
   "id": "convertible-morrison",
   "metadata": {},
   "source": [
    "### Optional arguments"
   ]
  },
  {
   "cell_type": "code",
   "execution_count": 87,
   "id": "decimal-dover",
   "metadata": {},
   "outputs": [],
   "source": [
    "def square_or_cube(number, square=True):\n",
    "    \"\"\"|- Returns square or cube of number\n",
    "       |- square=False for cube\"\"\"\n",
    "    if square:\n",
    "        return number ** 2\n",
    "    else:\n",
    "        return number ** 3"
   ]
  },
  {
   "cell_type": "code",
   "execution_count": 89,
   "id": "coordinate-prince",
   "metadata": {},
   "outputs": [
    {
     "name": "stdout",
     "output_type": "stream",
     "text": [
      "Help on function square_or_cube in module __main__:\n",
      "\n",
      "square_or_cube(number, square=True)\n",
      "    |- Returns square or cube of number\n",
      "    |- square=False for cube\n",
      "\n"
     ]
    }
   ],
   "source": [
    "help(square_or_cube)"
   ]
  },
  {
   "cell_type": "code",
   "execution_count": null,
   "id": "945b6ef3",
   "metadata": {},
   "outputs": [],
   "source": []
  },
  {
   "cell_type": "markdown",
   "id": "elegant-ballot",
   "metadata": {},
   "source": [
    "### Boolean functions"
   ]
  },
  {
   "cell_type": "code",
   "execution_count": 90,
   "id": "rural-southeast",
   "metadata": {},
   "outputs": [],
   "source": [
    "def is_odd(x):\n",
    "    if x % 2:\n",
    "        return True\n",
    "    else:\n",
    "        return False"
   ]
  },
  {
   "cell_type": "code",
   "execution_count": 99,
   "id": "saving-beads",
   "metadata": {},
   "outputs": [
    {
     "data": {
      "text/plain": [
       "True"
      ]
     },
     "execution_count": 99,
     "metadata": {},
     "output_type": "execute_result"
    }
   ],
   "source": [
    "is_odd(5)"
   ]
  },
  {
   "cell_type": "code",
   "execution_count": 96,
   "id": "e996f071",
   "metadata": {},
   "outputs": [],
   "source": [
    "ints = list(range(1,11))"
   ]
  },
  {
   "cell_type": "code",
   "execution_count": 97,
   "id": "babe407e",
   "metadata": {},
   "outputs": [
    {
     "data": {
      "text/plain": [
       "[1, 3, 5, 7, 9]"
      ]
     },
     "execution_count": 97,
     "metadata": {},
     "output_type": "execute_result"
    }
   ],
   "source": [
    "list(filter(is_odd, ints))"
   ]
  },
  {
   "cell_type": "code",
   "execution_count": 98,
   "id": "aabd14f0",
   "metadata": {},
   "outputs": [
    {
     "ename": "TypeError",
     "evalue": "unsupported operand type(s) for %: 'list' and 'int'",
     "output_type": "error",
     "traceback": [
      "\u001b[1;31m---------------------------------------------------------------------------\u001b[0m",
      "\u001b[1;31mTypeError\u001b[0m                                 Traceback (most recent call last)",
      "Cell \u001b[1;32mIn[98], line 1\u001b[0m\n\u001b[1;32m----> 1\u001b[0m is_odd(ints)\n",
      "Cell \u001b[1;32mIn[90], line 2\u001b[0m, in \u001b[0;36mis_odd\u001b[1;34m(x)\u001b[0m\n\u001b[0;32m      1\u001b[0m \u001b[38;5;28;01mdef\u001b[39;00m \u001b[38;5;21mis_odd\u001b[39m(x):\n\u001b[1;32m----> 2\u001b[0m     \u001b[38;5;28;01mif\u001b[39;00m x \u001b[38;5;241m%\u001b[39m \u001b[38;5;241m2\u001b[39m:\n\u001b[0;32m      3\u001b[0m         \u001b[38;5;28;01mreturn\u001b[39;00m \u001b[38;5;28;01mTrue\u001b[39;00m\n\u001b[0;32m      4\u001b[0m     \u001b[38;5;28;01melse\u001b[39;00m:\n",
      "\u001b[1;31mTypeError\u001b[0m: unsupported operand type(s) for %: 'list' and 'int'"
     ]
    }
   ],
   "source": [
    "is_odd(ints)"
   ]
  },
  {
   "cell_type": "markdown",
   "id": "disabled-japanese",
   "metadata": {},
   "source": [
    "### Algorithmic functions"
   ]
  },
  {
   "cell_type": "code",
   "execution_count": 102,
   "id": "interstate-third",
   "metadata": {},
   "outputs": [],
   "source": [
    "def adder(low, high):\n",
    "    return sum(list(range(low,high + 1)))\n",
    "    "
   ]
  },
  {
   "cell_type": "code",
   "execution_count": 103,
   "id": "elementary-convertible",
   "metadata": {},
   "outputs": [
    {
     "data": {
      "text/plain": [
       "10"
      ]
     },
     "execution_count": 103,
     "metadata": {},
     "output_type": "execute_result"
    }
   ],
   "source": [
    "adder(1,4)"
   ]
  },
  {
   "cell_type": "code",
   "execution_count": 104,
   "id": "practical-playback",
   "metadata": {},
   "outputs": [],
   "source": [
    "def adder(low, high):\n",
    "    total = 0\n",
    "    for value in range(low, high + 1):\n",
    "        total += value\n",
    "    return total"
   ]
  },
  {
   "cell_type": "code",
   "execution_count": 105,
   "id": "276db8fa",
   "metadata": {},
   "outputs": [
    {
     "data": {
      "text/plain": [
       "10"
      ]
     },
     "execution_count": 105,
     "metadata": {},
     "output_type": "execute_result"
    }
   ],
   "source": [
    "adder(1,4)"
   ]
  },
  {
   "cell_type": "code",
   "execution_count": 106,
   "id": "714b1746",
   "metadata": {},
   "outputs": [],
   "source": [
    "def adder(low, high):\n",
    "    total = 0\n",
    "    while low <= high:\n",
    "        total += low\n",
    "        low += 1\n",
    "    return total    "
   ]
  },
  {
   "cell_type": "code",
   "execution_count": 109,
   "id": "8fbafd22",
   "metadata": {},
   "outputs": [
    {
     "data": {
      "text/plain": [
       "5005"
      ]
     },
     "execution_count": 109,
     "metadata": {},
     "output_type": "execute_result"
    }
   ],
   "source": [
    "adder(10,100)"
   ]
  },
  {
   "cell_type": "code",
   "execution_count": 110,
   "id": "ab82c496",
   "metadata": {},
   "outputs": [
    {
     "data": {
      "text/plain": [
       "1000000.0"
      ]
     },
     "execution_count": 110,
     "metadata": {},
     "output_type": "execute_result"
    }
   ],
   "source": [
    "# scientific notation\n",
    "1e6"
   ]
  },
  {
   "cell_type": "code",
   "execution_count": 113,
   "id": "bbf2315c",
   "metadata": {},
   "outputs": [
    {
     "data": {
      "text/plain": [
       "1000000"
      ]
     },
     "execution_count": 113,
     "metadata": {},
     "output_type": "execute_result"
    }
   ],
   "source": [
    "1_000_000"
   ]
  },
  {
   "cell_type": "code",
   "execution_count": 116,
   "id": "dff07a5d",
   "metadata": {},
   "outputs": [
    {
     "data": {
      "text/plain": [
       "4567800000.0"
      ]
     },
     "execution_count": 116,
     "metadata": {},
     "output_type": "execute_result"
    }
   ],
   "source": [
    "4.5678e9"
   ]
  },
  {
   "cell_type": "code",
   "execution_count": 5,
   "id": "de011f57",
   "metadata": {},
   "outputs": [],
   "source": [
    "def scientific(number):\n",
    "    exp = 0\n",
    "    science = number\n",
    "    while science > 10:\n",
    "        science /= 10\n",
    "    while number > 10:\n",
    "        number //= 10\n",
    "        exp += 1\n",
    "    return(f\"{round(science,2)}e{exp}\")"
   ]
  },
  {
   "cell_type": "code",
   "execution_count": 6,
   "id": "4749e0ad",
   "metadata": {},
   "outputs": [
    {
     "data": {
      "text/plain": [
       "'4.57e9'"
      ]
     },
     "execution_count": 6,
     "metadata": {},
     "output_type": "execute_result"
    }
   ],
   "source": [
    "scientific(4567800000)"
   ]
  },
  {
   "cell_type": "code",
   "execution_count": null,
   "id": "b7c0c045",
   "metadata": {},
   "outputs": [],
   "source": []
  },
  {
   "cell_type": "markdown",
   "id": "bb959ea4",
   "metadata": {},
   "source": [
    "### Variable Inputs (\\*args, **kwargs)\n",
    "* allow for an unspecified number of inputs\n",
    "* args treats inputs as a tuple\n",
    "* kwargs treat as a dict\n",
    "* it's the * that matters not the name"
   ]
  },
  {
   "cell_type": "code",
   "execution_count": 7,
   "id": "be6ce43d",
   "metadata": {},
   "outputs": [],
   "source": [
    "def add(*values):\n",
    "    total = 0\n",
    "    for value in values:\n",
    "        total += value\n",
    "    return total    "
   ]
  },
  {
   "cell_type": "code",
   "execution_count": null,
   "id": "e9b9b1e2",
   "metadata": {},
   "outputs": [],
   "source": []
  },
  {
   "cell_type": "code",
   "execution_count": 8,
   "id": "d4e4b1f1",
   "metadata": {},
   "outputs": [],
   "source": [
    "a = 10\n",
    "b = 20\n",
    "c = 30"
   ]
  },
  {
   "cell_type": "code",
   "execution_count": 11,
   "id": "88f83e6e",
   "metadata": {},
   "outputs": [
    {
     "data": {
      "text/plain": [
       "60"
      ]
     },
     "execution_count": 11,
     "metadata": {},
     "output_type": "execute_result"
    }
   ],
   "source": [
    "add(a,b,c)"
   ]
  },
  {
   "cell_type": "code",
   "execution_count": 12,
   "id": "5046f8e8",
   "metadata": {},
   "outputs": [
    {
     "data": {
      "text/plain": [
       "[10, 20, 30, 40, 50, 60, 70, 80, 90]"
      ]
     },
     "execution_count": 12,
     "metadata": {},
     "output_type": "execute_result"
    }
   ],
   "source": [
    "numbers = list(range(10,100, 10))\n",
    "numbers"
   ]
  },
  {
   "cell_type": "code",
   "execution_count": 15,
   "id": "f02e34c4",
   "metadata": {},
   "outputs": [
    {
     "data": {
      "text/plain": [
       "460"
      ]
     },
     "execution_count": 15,
     "metadata": {},
     "output_type": "execute_result"
    }
   ],
   "source": [
    "add(*numbers,10)"
   ]
  },
  {
   "cell_type": "code",
   "execution_count": null,
   "id": "e8b6b7ed",
   "metadata": {},
   "outputs": [],
   "source": []
  },
  {
   "cell_type": "code",
   "execution_count": 16,
   "id": "8b37e4d4",
   "metadata": {},
   "outputs": [],
   "source": [
    "d = {'a':10, 'b': 20, 'c' : 30}"
   ]
  },
  {
   "cell_type": "code",
   "execution_count": 17,
   "id": "c379d314",
   "metadata": {},
   "outputs": [
    {
     "data": {
      "text/plain": [
       "60"
      ]
     },
     "execution_count": 17,
     "metadata": {},
     "output_type": "execute_result"
    }
   ],
   "source": [
    "add(*d.values())"
   ]
  },
  {
   "cell_type": "code",
   "execution_count": 18,
   "id": "5f0e99eb",
   "metadata": {},
   "outputs": [],
   "source": [
    "def printer(**kwargs):\n",
    "    for k,v in kwargs.items():\n",
    "        print(f\"{k}:\\t{v}\")"
   ]
  },
  {
   "cell_type": "code",
   "execution_count": 19,
   "id": "739653d4",
   "metadata": {},
   "outputs": [
    {
     "name": "stdout",
     "output_type": "stream",
     "text": [
      "Name:\tJohn\n",
      "Age:\t32\n"
     ]
    }
   ],
   "source": [
    "printer(Name=\"John\", Age= 32)"
   ]
  },
  {
   "cell_type": "code",
   "execution_count": null,
   "id": "16a4976e",
   "metadata": {},
   "outputs": [],
   "source": []
  },
  {
   "cell_type": "code",
   "execution_count": null,
   "id": "a8057757",
   "metadata": {},
   "outputs": [],
   "source": []
  },
  {
   "cell_type": "code",
   "execution_count": null,
   "id": "9464293d",
   "metadata": {},
   "outputs": [],
   "source": []
  },
  {
   "cell_type": "code",
   "execution_count": null,
   "id": "f5727ade",
   "metadata": {},
   "outputs": [],
   "source": []
  },
  {
   "cell_type": "code",
   "execution_count": null,
   "id": "fb4c3580",
   "metadata": {},
   "outputs": [],
   "source": []
  },
  {
   "cell_type": "code",
   "execution_count": null,
   "id": "ac03e103",
   "metadata": {},
   "outputs": [],
   "source": []
  },
  {
   "cell_type": "code",
   "execution_count": null,
   "id": "155695ff",
   "metadata": {},
   "outputs": [],
   "source": []
  },
  {
   "cell_type": "code",
   "execution_count": null,
   "id": "6c1b7df3",
   "metadata": {},
   "outputs": [],
   "source": []
  }
 ],
 "metadata": {
  "kernelspec": {
   "display_name": "Python 3 (ipykernel)",
   "language": "python",
   "name": "python3"
  },
  "language_info": {
   "codemirror_mode": {
    "name": "ipython",
    "version": 3
   },
   "file_extension": ".py",
   "mimetype": "text/x-python",
   "name": "python",
   "nbconvert_exporter": "python",
   "pygments_lexer": "ipython3",
   "version": "3.11.3"
  }
 },
 "nbformat": 4,
 "nbformat_minor": 5
}
